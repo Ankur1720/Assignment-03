{
 "cells": [
  {
   "cell_type": "code",
   "execution_count": 14,
   "id": "80a64f00",
   "metadata": {},
   "outputs": [
    {
     "name": "stdout",
     "output_type": "stream",
     "text": [
      "Enter your word:The quick Brow Fox\n",
      "The number of upper case letters: 3\n",
      "The number of lower case letters: 12\n"
     ]
    }
   ],
   "source": [
    "x =input(\"Enter your word:\")\n",
    "y=0\n",
    "z=0\n",
    "\n",
    "for i in x:\n",
    "    if i.isupper():\n",
    "        y=y+1\n",
    "    elif i.islower():\n",
    "        z=z+1\n",
    "    \n",
    "print(\"The number of upper case letters:\",y)\n",
    "print(\"The number of lower case letters:\",z)\n"
   ]
  },
  {
   "cell_type": "code",
   "execution_count": null,
   "id": "d154e087",
   "metadata": {},
   "outputs": [],
   "source": []
  },
  {
   "cell_type": "code",
   "execution_count": null,
   "id": "3d3b3ea3",
   "metadata": {},
   "outputs": [],
   "source": []
  }
 ],
 "metadata": {
  "kernelspec": {
   "display_name": "Python 3 (ipykernel)",
   "language": "python",
   "name": "python3"
  },
  "language_info": {
   "codemirror_mode": {
    "name": "ipython",
    "version": 3
   },
   "file_extension": ".py",
   "mimetype": "text/x-python",
   "name": "python",
   "nbconvert_exporter": "python",
   "pygments_lexer": "ipython3",
   "version": "3.11.0"
  }
 },
 "nbformat": 4,
 "nbformat_minor": 5
}
